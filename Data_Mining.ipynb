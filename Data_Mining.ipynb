{
  "nbformat": 4,
  "nbformat_minor": 0,
  "metadata": {
    "colab": {
      "provenance": [],
      "authorship_tag": "ABX9TyOvid+ymzysrfwlqurtfec8",
      "include_colab_link": true
    },
    "kernelspec": {
      "name": "python3",
      "display_name": "Python 3"
    },
    "language_info": {
      "name": "python"
    }
  },
  "cells": [
    {
      "cell_type": "markdown",
      "metadata": {
        "id": "view-in-github",
        "colab_type": "text"
      },
      "source": [
        "<a href=\"https://colab.research.google.com/github/Galih188/DataMining/blob/main/Data_Mining.ipynb\" target=\"_parent\"><img src=\"https://colab.research.google.com/assets/colab-badge.svg\" alt=\"Open In Colab\"/></a>"
      ]
    },
    {
      "cell_type": "code",
      "execution_count": 1,
      "metadata": {
        "id": "urCfuZoM5Z_g",
        "colab": {
          "base_uri": "https://localhost:8080/"
        },
        "outputId": "ffcaa6da-78d5-4377-d501-3644dfaade64"
      },
      "outputs": [
        {
          "output_type": "stream",
          "name": "stdout",
          "text": [
            "      NO      NAMA   USIA  PARITAS JARAK KELAHIRAN RIW HIPERTENSI RIW PE  \\\n",
            "0      1    NAMA 1  23 TH        3       < 2 tahun          Tidak  Tidak   \n",
            "1      2    NAMA 2  29 TH        2       < 2 tahun          Tidak    PEB   \n",
            "2      3    NAMA 3  20 TH        1    anak pertama          Tidak  Tidak   \n",
            "3      4    NAMA 4  18 TH        1    anak pertama          Tidak  Tidak   \n",
            "4      5    NAMA 5  34 TH        3      > 2 tahun           Tidak  Tidak   \n",
            "..   ...       ...    ...      ...             ...            ...    ...   \n",
            "556  558  NAMA 557  40 TH        3      > 2 tahun           Tidak  Tidak   \n",
            "557  559  NAMA 558  28 TH        3       < 2 tahun          Tidak  Tidak   \n",
            "558  560  NAMA 559  41 TH        3      > 2 tahun           Tidak  Tidak   \n",
            "559  561  NAMA 560  32 TH        2      > 2 tahun           Tidak  Tidak   \n",
            "560  562  NAMA 561  30 TH        2      > 2 tahun           Tidak  Tidak   \n",
            "\n",
            "    OBESITAS RIW DM RIW HIPERTENSI/PE DALAM KELUARGA SOSEK RENDAH PE/Non PE  \\\n",
            "0      Tidak     Ya                            Tidak         >UMR    Non PE   \n",
            "1      Tidak  Tidak                              Ada         >UMR        PE   \n",
            "2      Tidak  Tidak                            Tidak         >UMR    Non PE   \n",
            "3      Tidak  Tidak                            Tidak         >UMR    Non PE   \n",
            "4      Tidak  Tidak                            Tidak         >UMR    Non PE   \n",
            "..       ...    ...                              ...          ...       ...   \n",
            "556    Tidak  Tidak                            Tidak         >UMR    Non PE   \n",
            "557    Tidak  Tidak                            Tidak         >UMR    Non PE   \n",
            "558    Tidak  Tidak                            Tidak         >UMR    Non PE   \n",
            "559    Tidak  Tidak                            Tidak         >UMR    Non PE   \n",
            "560    Tidak  Tidak                            Tidak         >UMR    Non PE   \n",
            "\n",
            "    Unnamed: 12  \n",
            "0           NaN  \n",
            "1           NaN  \n",
            "2           NaN  \n",
            "3           NaN  \n",
            "4           NaN  \n",
            "..          ...  \n",
            "556         NaN  \n",
            "557         NaN  \n",
            "558         NaN  \n",
            "559         NaN  \n",
            "560         NaN  \n",
            "\n",
            "[561 rows x 13 columns]\n"
          ]
        }
      ],
      "source": [
        "import pandas as pd\n",
        "\n",
        "df = pd.read_excel('dataKasus-1.xlsx')\n",
        "\n",
        "print(df)"
      ]
    },
    {
      "cell_type": "code",
      "source": [
        "df = df.drop(['NO', 'NAMA','Unnamed: 12'], axis=1)\n",
        "print(df)"
      ],
      "metadata": {
        "colab": {
          "base_uri": "https://localhost:8080/"
        },
        "id": "VLWETmkQ8kR7",
        "outputId": "10eccbf4-eab4-4e7c-ee85-d12297077c87"
      },
      "execution_count": 2,
      "outputs": [
        {
          "output_type": "stream",
          "name": "stdout",
          "text": [
            "      USIA  PARITAS JARAK KELAHIRAN RIW HIPERTENSI RIW PE OBESITAS RIW DM  \\\n",
            "0    23 TH        3       < 2 tahun          Tidak  Tidak    Tidak     Ya   \n",
            "1    29 TH        2       < 2 tahun          Tidak    PEB    Tidak  Tidak   \n",
            "2    20 TH        1    anak pertama          Tidak  Tidak    Tidak  Tidak   \n",
            "3    18 TH        1    anak pertama          Tidak  Tidak    Tidak  Tidak   \n",
            "4    34 TH        3      > 2 tahun           Tidak  Tidak    Tidak  Tidak   \n",
            "..     ...      ...             ...            ...    ...      ...    ...   \n",
            "556  40 TH        3      > 2 tahun           Tidak  Tidak    Tidak  Tidak   \n",
            "557  28 TH        3       < 2 tahun          Tidak  Tidak    Tidak  Tidak   \n",
            "558  41 TH        3      > 2 tahun           Tidak  Tidak    Tidak  Tidak   \n",
            "559  32 TH        2      > 2 tahun           Tidak  Tidak    Tidak  Tidak   \n",
            "560  30 TH        2      > 2 tahun           Tidak  Tidak    Tidak  Tidak   \n",
            "\n",
            "    RIW HIPERTENSI/PE DALAM KELUARGA SOSEK RENDAH PE/Non PE  \n",
            "0                              Tidak         >UMR    Non PE  \n",
            "1                                Ada         >UMR        PE  \n",
            "2                              Tidak         >UMR    Non PE  \n",
            "3                              Tidak         >UMR    Non PE  \n",
            "4                              Tidak         >UMR    Non PE  \n",
            "..                               ...          ...       ...  \n",
            "556                            Tidak         >UMR    Non PE  \n",
            "557                            Tidak         >UMR    Non PE  \n",
            "558                            Tidak         >UMR    Non PE  \n",
            "559                            Tidak         >UMR    Non PE  \n",
            "560                            Tidak         >UMR    Non PE  \n",
            "\n",
            "[561 rows x 10 columns]\n"
          ]
        }
      ]
    },
    {
      "cell_type": "code",
      "source": [
        "df['USIA'] = df['USIA'].str.replace(' TH', '')\n",
        "df['USIA'] = df['USIA'].str.replace('TH', '')\n",
        "df['USIA'] = df['USIA'].str.replace('th', '')\n",
        "df['USIA'] = df['USIA'].str.replace(' th', '')\n",
        "df = df.dropna(subset=['USIA'])\n",
        "df['USIA'] = df['USIA'].astype(int)\n",
        "\n",
        "df = df.dropna(subset=['JARAK KELAHIRAN'])\n",
        "\n",
        "df['JARAK KELAHIRAN'] = df['JARAK KELAHIRAN'].map(\n",
        "                   {'< 2 tahun':0 ,'anak pertama':1,'> 2 tahun ':2,'> 2 tahun':2})\n",
        "\n",
        "df['RIW HIPERTENSI'] = df['RIW HIPERTENSI'].map(\n",
        "                   {'Tidak':0 ,'Ya':1})\n",
        "\n",
        "\n",
        "df['RIW PE'] = df['RIW PE'].map(\n",
        "                   {'Tidak':0 ,'PEB':1,'Impending Eklamsia':2,'PE':3,'Kejang Konvulsi':4,\n",
        "                    'impending eklamsia':5,'HELLP SYNDROM':6,'PE, HELLP Syndrome':7,\n",
        "                    'Impending PE':8,'PEB impending eklampsi':9,'Impending Ekalmsia':10})\n",
        "\n",
        "df['OBESITAS'] = df['OBESITAS'].map(\n",
        "                   {'Tidak':0 ,'Ya':1})\n",
        "\n",
        "df['RIW DM'] = df['RIW DM'].map(\n",
        "                   {'Tidak':0 ,'Ya':1})\n",
        "\n",
        "df['RIW HIPERTENSI/PE DALAM KELUARGA'] = df['RIW HIPERTENSI/PE DALAM KELUARGA'].map(\n",
        "                   {'Tidak':0 ,'Ada':1})\n",
        "\n",
        "df['SOSEK RENDAH'] = df['SOSEK RENDAH'].map(\n",
        "                   {'<UMR':0 ,'>UMR':1})\n",
        "\n",
        "df['PE/Non PE'] = df['PE/Non PE'].map(\n",
        "                   {'Non PE':0 ,'PE':1,'PEB':2,'Eklamsia':3,'PE gemelli' :4,'PEB impending eklampsi':5,'PE ':6})"
      ],
      "metadata": {
        "colab": {
          "base_uri": "https://localhost:8080/"
        },
        "id": "Mv8j3dnd8tYt",
        "outputId": "794d78c6-83ad-4400-a616-00d73dd86391"
      },
      "execution_count": 3,
      "outputs": [
        {
          "output_type": "stream",
          "name": "stderr",
          "text": [
            "<ipython-input-3-5481eab7e874>:6: SettingWithCopyWarning: \n",
            "A value is trying to be set on a copy of a slice from a DataFrame.\n",
            "Try using .loc[row_indexer,col_indexer] = value instead\n",
            "\n",
            "See the caveats in the documentation: https://pandas.pydata.org/pandas-docs/stable/user_guide/indexing.html#returning-a-view-versus-a-copy\n",
            "  df['USIA'] = df['USIA'].astype(int)\n"
          ]
        }
      ]
    },
    {
      "cell_type": "code",
      "source": [
        "print(df)"
      ],
      "metadata": {
        "colab": {
          "base_uri": "https://localhost:8080/"
        },
        "id": "tkVKYUDT9LfQ",
        "outputId": "21004fa5-6d56-4ef6-9b8c-9734c46600b3"
      },
      "execution_count": 4,
      "outputs": [
        {
          "output_type": "stream",
          "name": "stdout",
          "text": [
            "     USIA  PARITAS  JARAK KELAHIRAN  RIW HIPERTENSI  RIW PE  OBESITAS  RIW DM  \\\n",
            "0      23        3                0               0       0         0       1   \n",
            "1      29        2                0               0       1         0       0   \n",
            "2      20        1                1               0       0         0       0   \n",
            "3      18        1                1               0       0         0       0   \n",
            "4      34        3                2               0       0         0       0   \n",
            "..    ...      ...              ...             ...     ...       ...     ...   \n",
            "556    40        3                2               0       0         0       0   \n",
            "557    28        3                0               0       0         0       0   \n",
            "558    41        3                2               0       0         0       0   \n",
            "559    32        2                2               0       0         0       0   \n",
            "560    30        2                2               0       0         0       0   \n",
            "\n",
            "     RIW HIPERTENSI/PE DALAM KELUARGA  SOSEK RENDAH  PE/Non PE  \n",
            "0                                   0             1          0  \n",
            "1                                   1             1          1  \n",
            "2                                   0             1          0  \n",
            "3                                   0             1          0  \n",
            "4                                   0             1          0  \n",
            "..                                ...           ...        ...  \n",
            "556                                 0             1          0  \n",
            "557                                 0             1          0  \n",
            "558                                 0             1          0  \n",
            "559                                 0             1          0  \n",
            "560                                 0             1          0  \n",
            "\n",
            "[540 rows x 10 columns]\n"
          ]
        }
      ]
    },
    {
      "cell_type": "code",
      "source": [
        "df.to_numpy()"
      ],
      "metadata": {
        "colab": {
          "base_uri": "https://localhost:8080/"
        },
        "id": "ysYrmx1F9Qxi",
        "outputId": "463aaff1-9d94-41a1-c7d2-3bc5baf5dc7d"
      },
      "execution_count": 5,
      "outputs": [
        {
          "output_type": "execute_result",
          "data": {
            "text/plain": [
              "array([[23,  3,  0, ...,  0,  1,  0],\n",
              "       [29,  2,  0, ...,  1,  1,  1],\n",
              "       [20,  1,  1, ...,  0,  1,  0],\n",
              "       ...,\n",
              "       [41,  3,  2, ...,  0,  1,  0],\n",
              "       [32,  2,  2, ...,  0,  1,  0],\n",
              "       [30,  2,  2, ...,  0,  1,  0]])"
            ]
          },
          "metadata": {},
          "execution_count": 5
        }
      ]
    }
  ]
}